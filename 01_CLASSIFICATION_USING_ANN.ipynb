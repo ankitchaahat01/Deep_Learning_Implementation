{
  "nbformat": 4,
  "nbformat_minor": 0,
  "metadata": {
    "colab": {
      "provenance": [],
      "gpuType": "T4"
    },
    "kernelspec": {
      "name": "python3",
      "display_name": "Python 3"
    },
    "language_info": {
      "name": "python"
    },
    "accelerator": "GPU"
  },
  "cells": [
    {
      "cell_type": "code",
      "source": [
        "# import all the required libraries\n",
        "import tensorflow as tf\n",
        "import numpy as np\n",
        "import matplotlib.pyplot as plt\n",
        "from tensorflow.keras.models import Sequential\n",
        "from tensorflow.keras.layers import Dense,Dropout,BatchNormalization\n",
        "from sklearn.model_selection import train_test_split\n",
        "from sklearn.preprocessing import StandardScaler\n",
        "from sklearn.metrics import confusion_matrix,accuracy_score\n",
        "from sklearn.datasets import load_iris"
      ],
      "metadata": {
        "id": "iQCeWEtBlU-_"
      },
      "execution_count": 1,
      "outputs": []
    },
    {
      "cell_type": "code",
      "source": [
        "# Load and preprocess the data\n",
        "\n",
        "data=load_iris()\n",
        "print(data.feature_names)\n",
        "print()\n",
        "print(data.target_names)"
      ],
      "metadata": {
        "colab": {
          "base_uri": "https://localhost:8080/"
        },
        "id": "si6lbdZnrtB9",
        "outputId": "2ef436ec-deca-4268-ee73-5311026bdd1b"
      },
      "execution_count": 2,
      "outputs": [
        {
          "output_type": "stream",
          "name": "stdout",
          "text": [
            "['sepal length (cm)', 'sepal width (cm)', 'petal length (cm)', 'petal width (cm)']\n",
            "\n",
            "['setosa' 'versicolor' 'virginica']\n"
          ]
        }
      ]
    },
    {
      "cell_type": "code",
      "source": [
        "data.keys()"
      ],
      "metadata": {
        "colab": {
          "base_uri": "https://localhost:8080/"
        },
        "id": "1KsymFhZsVfC",
        "outputId": "f06db05d-7f31-421c-abb8-fd82246b7b69"
      },
      "execution_count": 3,
      "outputs": [
        {
          "output_type": "execute_result",
          "data": {
            "text/plain": [
              "dict_keys(['data', 'target', 'frame', 'target_names', 'DESCR', 'feature_names', 'filename', 'data_module'])"
            ]
          },
          "metadata": {},
          "execution_count": 3
        }
      ]
    },
    {
      "cell_type": "code",
      "source": [
        "data.data    # array form lets check its dimension"
      ],
      "metadata": {
        "colab": {
          "base_uri": "https://localhost:8080/"
        },
        "id": "kxfr0yKlstaa",
        "outputId": "92074787-2944-43f7-ed05-bcf90680228c"
      },
      "execution_count": 4,
      "outputs": [
        {
          "output_type": "execute_result",
          "data": {
            "text/plain": [
              "array([[5.1, 3.5, 1.4, 0.2],\n",
              "       [4.9, 3. , 1.4, 0.2],\n",
              "       [4.7, 3.2, 1.3, 0.2],\n",
              "       [4.6, 3.1, 1.5, 0.2],\n",
              "       [5. , 3.6, 1.4, 0.2],\n",
              "       [5.4, 3.9, 1.7, 0.4],\n",
              "       [4.6, 3.4, 1.4, 0.3],\n",
              "       [5. , 3.4, 1.5, 0.2],\n",
              "       [4.4, 2.9, 1.4, 0.2],\n",
              "       [4.9, 3.1, 1.5, 0.1],\n",
              "       [5.4, 3.7, 1.5, 0.2],\n",
              "       [4.8, 3.4, 1.6, 0.2],\n",
              "       [4.8, 3. , 1.4, 0.1],\n",
              "       [4.3, 3. , 1.1, 0.1],\n",
              "       [5.8, 4. , 1.2, 0.2],\n",
              "       [5.7, 4.4, 1.5, 0.4],\n",
              "       [5.4, 3.9, 1.3, 0.4],\n",
              "       [5.1, 3.5, 1.4, 0.3],\n",
              "       [5.7, 3.8, 1.7, 0.3],\n",
              "       [5.1, 3.8, 1.5, 0.3],\n",
              "       [5.4, 3.4, 1.7, 0.2],\n",
              "       [5.1, 3.7, 1.5, 0.4],\n",
              "       [4.6, 3.6, 1. , 0.2],\n",
              "       [5.1, 3.3, 1.7, 0.5],\n",
              "       [4.8, 3.4, 1.9, 0.2],\n",
              "       [5. , 3. , 1.6, 0.2],\n",
              "       [5. , 3.4, 1.6, 0.4],\n",
              "       [5.2, 3.5, 1.5, 0.2],\n",
              "       [5.2, 3.4, 1.4, 0.2],\n",
              "       [4.7, 3.2, 1.6, 0.2],\n",
              "       [4.8, 3.1, 1.6, 0.2],\n",
              "       [5.4, 3.4, 1.5, 0.4],\n",
              "       [5.2, 4.1, 1.5, 0.1],\n",
              "       [5.5, 4.2, 1.4, 0.2],\n",
              "       [4.9, 3.1, 1.5, 0.2],\n",
              "       [5. , 3.2, 1.2, 0.2],\n",
              "       [5.5, 3.5, 1.3, 0.2],\n",
              "       [4.9, 3.6, 1.4, 0.1],\n",
              "       [4.4, 3. , 1.3, 0.2],\n",
              "       [5.1, 3.4, 1.5, 0.2],\n",
              "       [5. , 3.5, 1.3, 0.3],\n",
              "       [4.5, 2.3, 1.3, 0.3],\n",
              "       [4.4, 3.2, 1.3, 0.2],\n",
              "       [5. , 3.5, 1.6, 0.6],\n",
              "       [5.1, 3.8, 1.9, 0.4],\n",
              "       [4.8, 3. , 1.4, 0.3],\n",
              "       [5.1, 3.8, 1.6, 0.2],\n",
              "       [4.6, 3.2, 1.4, 0.2],\n",
              "       [5.3, 3.7, 1.5, 0.2],\n",
              "       [5. , 3.3, 1.4, 0.2],\n",
              "       [7. , 3.2, 4.7, 1.4],\n",
              "       [6.4, 3.2, 4.5, 1.5],\n",
              "       [6.9, 3.1, 4.9, 1.5],\n",
              "       [5.5, 2.3, 4. , 1.3],\n",
              "       [6.5, 2.8, 4.6, 1.5],\n",
              "       [5.7, 2.8, 4.5, 1.3],\n",
              "       [6.3, 3.3, 4.7, 1.6],\n",
              "       [4.9, 2.4, 3.3, 1. ],\n",
              "       [6.6, 2.9, 4.6, 1.3],\n",
              "       [5.2, 2.7, 3.9, 1.4],\n",
              "       [5. , 2. , 3.5, 1. ],\n",
              "       [5.9, 3. , 4.2, 1.5],\n",
              "       [6. , 2.2, 4. , 1. ],\n",
              "       [6.1, 2.9, 4.7, 1.4],\n",
              "       [5.6, 2.9, 3.6, 1.3],\n",
              "       [6.7, 3.1, 4.4, 1.4],\n",
              "       [5.6, 3. , 4.5, 1.5],\n",
              "       [5.8, 2.7, 4.1, 1. ],\n",
              "       [6.2, 2.2, 4.5, 1.5],\n",
              "       [5.6, 2.5, 3.9, 1.1],\n",
              "       [5.9, 3.2, 4.8, 1.8],\n",
              "       [6.1, 2.8, 4. , 1.3],\n",
              "       [6.3, 2.5, 4.9, 1.5],\n",
              "       [6.1, 2.8, 4.7, 1.2],\n",
              "       [6.4, 2.9, 4.3, 1.3],\n",
              "       [6.6, 3. , 4.4, 1.4],\n",
              "       [6.8, 2.8, 4.8, 1.4],\n",
              "       [6.7, 3. , 5. , 1.7],\n",
              "       [6. , 2.9, 4.5, 1.5],\n",
              "       [5.7, 2.6, 3.5, 1. ],\n",
              "       [5.5, 2.4, 3.8, 1.1],\n",
              "       [5.5, 2.4, 3.7, 1. ],\n",
              "       [5.8, 2.7, 3.9, 1.2],\n",
              "       [6. , 2.7, 5.1, 1.6],\n",
              "       [5.4, 3. , 4.5, 1.5],\n",
              "       [6. , 3.4, 4.5, 1.6],\n",
              "       [6.7, 3.1, 4.7, 1.5],\n",
              "       [6.3, 2.3, 4.4, 1.3],\n",
              "       [5.6, 3. , 4.1, 1.3],\n",
              "       [5.5, 2.5, 4. , 1.3],\n",
              "       [5.5, 2.6, 4.4, 1.2],\n",
              "       [6.1, 3. , 4.6, 1.4],\n",
              "       [5.8, 2.6, 4. , 1.2],\n",
              "       [5. , 2.3, 3.3, 1. ],\n",
              "       [5.6, 2.7, 4.2, 1.3],\n",
              "       [5.7, 3. , 4.2, 1.2],\n",
              "       [5.7, 2.9, 4.2, 1.3],\n",
              "       [6.2, 2.9, 4.3, 1.3],\n",
              "       [5.1, 2.5, 3. , 1.1],\n",
              "       [5.7, 2.8, 4.1, 1.3],\n",
              "       [6.3, 3.3, 6. , 2.5],\n",
              "       [5.8, 2.7, 5.1, 1.9],\n",
              "       [7.1, 3. , 5.9, 2.1],\n",
              "       [6.3, 2.9, 5.6, 1.8],\n",
              "       [6.5, 3. , 5.8, 2.2],\n",
              "       [7.6, 3. , 6.6, 2.1],\n",
              "       [4.9, 2.5, 4.5, 1.7],\n",
              "       [7.3, 2.9, 6.3, 1.8],\n",
              "       [6.7, 2.5, 5.8, 1.8],\n",
              "       [7.2, 3.6, 6.1, 2.5],\n",
              "       [6.5, 3.2, 5.1, 2. ],\n",
              "       [6.4, 2.7, 5.3, 1.9],\n",
              "       [6.8, 3. , 5.5, 2.1],\n",
              "       [5.7, 2.5, 5. , 2. ],\n",
              "       [5.8, 2.8, 5.1, 2.4],\n",
              "       [6.4, 3.2, 5.3, 2.3],\n",
              "       [6.5, 3. , 5.5, 1.8],\n",
              "       [7.7, 3.8, 6.7, 2.2],\n",
              "       [7.7, 2.6, 6.9, 2.3],\n",
              "       [6. , 2.2, 5. , 1.5],\n",
              "       [6.9, 3.2, 5.7, 2.3],\n",
              "       [5.6, 2.8, 4.9, 2. ],\n",
              "       [7.7, 2.8, 6.7, 2. ],\n",
              "       [6.3, 2.7, 4.9, 1.8],\n",
              "       [6.7, 3.3, 5.7, 2.1],\n",
              "       [7.2, 3.2, 6. , 1.8],\n",
              "       [6.2, 2.8, 4.8, 1.8],\n",
              "       [6.1, 3. , 4.9, 1.8],\n",
              "       [6.4, 2.8, 5.6, 2.1],\n",
              "       [7.2, 3. , 5.8, 1.6],\n",
              "       [7.4, 2.8, 6.1, 1.9],\n",
              "       [7.9, 3.8, 6.4, 2. ],\n",
              "       [6.4, 2.8, 5.6, 2.2],\n",
              "       [6.3, 2.8, 5.1, 1.5],\n",
              "       [6.1, 2.6, 5.6, 1.4],\n",
              "       [7.7, 3. , 6.1, 2.3],\n",
              "       [6.3, 3.4, 5.6, 2.4],\n",
              "       [6.4, 3.1, 5.5, 1.8],\n",
              "       [6. , 3. , 4.8, 1.8],\n",
              "       [6.9, 3.1, 5.4, 2.1],\n",
              "       [6.7, 3.1, 5.6, 2.4],\n",
              "       [6.9, 3.1, 5.1, 2.3],\n",
              "       [5.8, 2.7, 5.1, 1.9],\n",
              "       [6.8, 3.2, 5.9, 2.3],\n",
              "       [6.7, 3.3, 5.7, 2.5],\n",
              "       [6.7, 3. , 5.2, 2.3],\n",
              "       [6.3, 2.5, 5. , 1.9],\n",
              "       [6.5, 3. , 5.2, 2. ],\n",
              "       [6.2, 3.4, 5.4, 2.3],\n",
              "       [5.9, 3. , 5.1, 1.8]])"
            ]
          },
          "metadata": {},
          "execution_count": 4
        }
      ]
    },
    {
      "cell_type": "code",
      "source": [
        "data.data.ndim   # its 2 dimensional array"
      ],
      "metadata": {
        "colab": {
          "base_uri": "https://localhost:8080/"
        },
        "id": "s3knTsQBs9yt",
        "outputId": "9e512b0a-3dbd-4208-fbb4-c11e7e1a00f0"
      },
      "execution_count": 5,
      "outputs": [
        {
          "output_type": "execute_result",
          "data": {
            "text/plain": [
              "2"
            ]
          },
          "metadata": {},
          "execution_count": 5
        }
      ]
    },
    {
      "cell_type": "code",
      "source": [
        "# now seperating the data into X and y\n",
        "X=data.data\n",
        "y=data.target"
      ],
      "metadata": {
        "id": "z4n9Gj3mtDol"
      },
      "execution_count": 6,
      "outputs": []
    },
    {
      "cell_type": "code",
      "source": [
        "# split the data into train and test shape\n",
        "\n",
        "X_train,X_test,y_train,y_test=train_test_split(X,y,test_size=0.2,random_state=42)"
      ],
      "metadata": {
        "id": "7HKGxgFQtPwI"
      },
      "execution_count": 7,
      "outputs": []
    },
    {
      "cell_type": "code",
      "source": [
        "# check the shape  of the dataset\n",
        "\n",
        "print(f\"X_train {X_train.shape} \")\n",
        "print(f\"y_train {y_train.shape} \")\n",
        "\n",
        "print()\n",
        "\n",
        "print(f\"X_test {X_test.shape} \")\n",
        "print(f\"y_test {y_test.shape} \")"
      ],
      "metadata": {
        "colab": {
          "base_uri": "https://localhost:8080/"
        },
        "id": "mDKWIHcttgrT",
        "outputId": "9a445279-3368-4e37-ca3f-c6e6165a00ce"
      },
      "execution_count": 8,
      "outputs": [
        {
          "output_type": "stream",
          "name": "stdout",
          "text": [
            "X_train (120, 4) \n",
            "y_train (120,) \n",
            "\n",
            "X_test (30, 4) \n",
            "y_test (30,) \n"
          ]
        }
      ]
    },
    {
      "cell_type": "code",
      "source": [
        "# scale the feature\n",
        "\n",
        "scaler=StandardScaler()\n",
        "X_train=X_train.astype(np.float32)  # converting the dataype\n",
        "X_test=X_test.astype(np.float32)   # converting the datatype\n",
        "\n",
        "X_train=scaler.fit_transform(X_train)\n",
        "x_test=scaler.transform(X_test)"
      ],
      "metadata": {
        "id": "Mm5TD45DuBMl"
      },
      "execution_count": 9,
      "outputs": []
    },
    {
      "cell_type": "code",
      "source": [
        "X_train  # scaled data"
      ],
      "metadata": {
        "colab": {
          "base_uri": "https://localhost:8080/"
        },
        "id": "d5nWWaX8ulM9",
        "outputId": "97af9aab-5ded-4ba1-a903-74165325633e"
      },
      "execution_count": 10,
      "outputs": [
        {
          "output_type": "execute_result",
          "data": {
            "text/plain": [
              "array([[-1.4739369 ,  1.2036577 , -1.5625348 , -1.3126029 ],\n",
              "       [-0.13307102,  2.9923759 , -1.2760063 , -1.0456327 ],\n",
              "       [ 1.085898  ,  0.08570917,  0.3858583 ,  0.28921756],\n",
              "       [-1.2301427 ,  0.7564788 , -1.2187006 , -1.3126029 ],\n",
              "       [-1.7177305 ,  0.30929923, -1.3906177 , -1.3126029 ],\n",
              "       [ 0.5983109 , -1.255829  ,  0.7296923 ,  0.9566427 ],\n",
              "       [ 0.7202077 ,  0.30929923,  0.4431639 ,  0.4227026 ],\n",
              "       [-0.74255556,  0.98006827, -1.2760063 , -1.3126029 ],\n",
              "       [-0.98634917,  1.2036577 , -1.333312  , -1.3126029 ],\n",
              "       [-0.74255556,  2.3216062 , -1.2760063 , -1.446088  ],\n",
              "       [-0.01117364, -0.80864936,  0.78699785,  0.9566427 ],\n",
              "       [ 0.23261996,  0.7564788 ,  0.4431639 ,  0.5561877 ],\n",
              "       [ 1.085898  ,  0.08570917,  0.55777514,  0.4227026 ],\n",
              "       [-0.49876142,  1.8744273 , -1.3906177 , -1.0456327 ],\n",
              "       [-0.49876142,  1.4272478 , -1.2760063 , -1.3126029 ],\n",
              "       [-0.3768646 , -1.4794184 , -0.01528148, -0.24472255],\n",
              "       [ 0.5983109 , -0.5850599 ,  0.78699785,  0.4227026 ],\n",
              "       [ 0.7202077 ,  0.08570917,  1.0162207 ,  0.82315767],\n",
              "       [ 0.9640013 , -0.13788034,  0.3858583 ,  0.28921756],\n",
              "       [ 1.6953826 ,  1.2036577 ,  1.3600546 ,  1.757553  ],\n",
              "       [-0.13307102, -0.36146984,  0.27124676,  0.1557325 ],\n",
              "       [ 2.1829703 , -0.13788034,  1.646583  ,  1.2236127 ],\n",
              "       [-0.2549678 , -0.13788034,  0.4431639 ,  0.4227026 ],\n",
              "       [-0.86445236,  0.98006827, -1.333312  , -1.3126029 ],\n",
              "       [ 2.3048673 , -0.5850599 ,  1.7038887 ,  1.0901278 ],\n",
              "       [-0.01117364, -0.80864936,  0.21394114, -0.24472255],\n",
              "       [-0.74255556,  0.7564788 , -1.333312  , -1.3126029 ],\n",
              "       [-0.98634917,  0.98006827, -1.3906177 , -1.1791178 ],\n",
              "       [-0.86445236,  1.6508373 , -1.0467837 , -1.0456327 ],\n",
              "       [-0.98634917, -2.3737776 , -0.12989286, -0.24472255],\n",
              "       [ 0.5983109 , -0.80864936,  0.67238665,  0.82315767],\n",
              "       [-1.2301427 ,  0.7564788 , -1.0467837 , -1.3126029 ],\n",
              "       [-0.98634917, -0.13788034, -1.2187006 , -1.3126029 ],\n",
              "       [-0.86445236,  0.5328887 , -1.1613951 , -0.91214776],\n",
              "       [-0.2549678 , -0.80864936,  0.27124676,  0.1557325 ],\n",
              "       [-0.86445236,  0.7564788 , -1.2760063 , -1.3126029 ],\n",
              "       [-0.13307102, -0.13788034,  0.27124676,  0.02224758],\n",
              "       [ 2.3048673 ,  1.6508373 ,  1.7038887 ,  1.357098  ],\n",
              "       [-1.4739369 ,  0.30929923, -1.333312  , -1.3126029 ],\n",
              "       [ 0.47641352, -0.36146984,  0.32855266,  0.1557325 ],\n",
              "       [-0.13307102, -1.255829  ,  0.7296923 ,  1.0901278 ],\n",
              "       [-0.3768646 ,  2.5451958 , -1.333312  , -1.3126029 ],\n",
              "       [ 0.23261996, -0.13788034,  0.615081  ,  0.82315767],\n",
              "       [-0.01117364, -0.80864936,  0.78699785,  0.9566427 ],\n",
              "       [ 0.23261996, -1.926598  ,  0.15663552, -0.24472255],\n",
              "       [-0.49876142, -0.13788034,  0.4431639 ,  0.4227026 ],\n",
              "       [ 0.47641352,  0.7564788 ,  0.958915  ,  1.490583  ],\n",
              "       [-0.3768646 , -1.7030084 ,  0.15663552,  0.1557325 ],\n",
              "       [-0.49876142,  1.8744273 , -1.1613951 , -1.0456327 ],\n",
              "       [-0.98634917, -1.7030084 , -0.24450424, -0.24472255],\n",
              "       [ 0.7202077 , -0.80864936,  0.9016094 ,  0.9566427 ],\n",
              "       [-0.98634917,  0.5328887 , -1.333312  , -1.3126029 ],\n",
              "       [-0.98634917,  0.30929923, -1.4479234 , -1.3126029 ],\n",
              "       [-0.3768646 , -1.4794184 ,  0.04202414, -0.11123748],\n",
              "       [ 1.085898  , -0.13788034,  0.7296923 ,  0.6896727 ],\n",
              "       [-1.108246  ,  0.08570917, -1.2760063 , -1.3126029 ],\n",
              "       [-0.01117364, -0.5850599 ,  0.78699785,  1.6240681 ],\n",
              "       [-0.98634917,  0.7564788 , -1.2760063 , -1.3126029 ],\n",
              "       [-0.98634917,  0.98006827, -1.2187006 , -0.7786627 ],\n",
              "       [ 0.11072316,  0.30929923,  0.615081  ,  0.82315767],\n",
              "       [-0.86445236, -1.255829  , -0.41642123, -0.11123748],\n",
              "       [ 1.3296922 ,  0.30929923,  1.1308318 ,  1.490583  ],\n",
              "       [ 0.23261996, -0.80864936,  0.78699785,  0.5561877 ],\n",
              "       [ 0.3545167 , -1.0322394 ,  1.0735263 ,  0.28921756],\n",
              "       [ 2.3048673 , -0.13788034,  1.3600546 ,  1.490583  ],\n",
              "       [-0.3768646 , -1.255829  ,  0.15663552,  0.1557325 ],\n",
              "       [-1.7177305 , -0.36146984, -1.333312  , -1.3126029 ],\n",
              "       [-1.8396273 , -0.13788034, -1.505229  , -1.446088  ],\n",
              "       [ 0.23261996, -1.926598  ,  0.7296923 ,  0.4227026 ],\n",
              "       [ 1.6953826 ,  0.30929923,  1.302749  ,  0.82315767],\n",
              "       [-1.4739369 ,  0.08570917, -1.2760063 , -1.3126029 ],\n",
              "       [-0.86445236,  0.98006827, -1.333312  , -1.1791178 ],\n",
              "       [-1.7177305 , -0.13788034, -1.3906177 , -1.3126029 ],\n",
              "       [ 0.5983109 , -1.255829  ,  0.67238665,  0.4227026 ],\n",
              "       [ 0.5983109 ,  0.7564788 ,  1.0735263 ,  1.6240681 ],\n",
              "       [-1.4739369 ,  0.7564788 , -1.333312  , -1.1791178 ],\n",
              "       [ 1.2077955 , -0.13788034,  1.0162207 ,  1.2236127 ],\n",
              "       [ 0.5983109 ,  0.5328887 ,  1.302749  ,  1.757553  ],\n",
              "       [-1.3520402 ,  0.30929923, -1.3906177 , -1.3126029 ],\n",
              "       [ 0.3545167 , -0.36146984,  0.55777514,  0.28921756],\n",
              "       [ 0.8421045 , -0.5850599 ,  0.5004695 ,  0.4227026 ],\n",
              "       [ 0.47641352, -0.5850599 ,  0.615081  ,  0.82315767],\n",
              "       [ 1.451589  ,  0.30929923,  0.55777514,  0.28921756],\n",
              "       [ 0.7202077 ,  0.30929923,  0.9016094 ,  1.490583  ],\n",
              "       [-0.86445236,  1.6508373 , -1.2187006 , -1.3126029 ],\n",
              "       [ 1.3296922 ,  0.08570917,  0.958915  ,  1.2236127 ],\n",
              "       [ 0.11072316, -0.13788034,  0.27124676,  0.4227026 ],\n",
              "       [ 0.8421045 , -0.13788034,  0.8443035 ,  1.0901278 ],\n",
              "       [-0.13307102, -1.0322394 , -0.12989286, -0.24472255],\n",
              "       [-0.74255556, -0.80864936,  0.0993299 ,  0.28921756],\n",
              "       [ 0.3545167 , -0.13788034,  0.5004695 ,  0.28921756],\n",
              "       [-1.5958338 , -1.7030084 , -1.3906177 , -1.1791178 ],\n",
              "       [ 0.9640013 , -0.36146984,  0.5004695 ,  0.1557325 ],\n",
              "       [-0.3768646 , -1.0322394 ,  0.3858583 ,  0.02224758],\n",
              "       [-0.6206582 ,  1.4272478 , -1.2760063 , -1.3126029 ],\n",
              "       [-0.2549678 , -0.13788034,  0.21394114,  0.1557325 ],\n",
              "       [ 1.81728   , -0.36146984,  1.4746661 ,  0.82315767],\n",
              "       [ 1.085898  ,  0.5328887 ,  1.1308318 ,  1.2236127 ],\n",
              "       [-0.86445236,  1.4272478 , -1.2760063 , -1.0456327 ],\n",
              "       [-1.108246  , -1.4794184 , -0.24450424, -0.24472255],\n",
              "       [ 1.085898  ,  0.5328887 ,  1.1308318 ,  1.757553  ],\n",
              "       [ 1.6953826 , -0.13788034,  1.1881378 ,  0.5561877 ],\n",
              "       [-1.108246  ,  1.2036577 , -1.333312  , -1.446088  ],\n",
              "       [ 1.085898  ,  0.08570917,  1.0735263 ,  1.6240681 ],\n",
              "       [-1.108246  , -0.13788034, -1.333312  , -1.3126029 ],\n",
              "       [ 1.3296922 ,  0.08570917,  0.67238665,  0.4227026 ],\n",
              "       [ 1.9391768 , -0.5850599 ,  1.3600546 ,  0.9566427 ],\n",
              "       [ 0.5983109 , -0.36146984,  1.0735263 ,  0.82315767],\n",
              "       [-0.13307102, -0.5850599 ,  0.21394114,  0.1557325 ],\n",
              "       [ 0.8421045 , -0.13788034,  1.0162207 ,  0.82315767],\n",
              "       [ 0.5983109 , -1.7030084 ,  0.3858583 ,  0.1557325 ],\n",
              "       [ 0.7202077 , -0.36146984,  0.32855266,  0.1557325 ],\n",
              "       [-0.2549678 , -0.5850599 ,  0.67238665,  1.0901278 ],\n",
              "       [ 0.11072316, -0.13788034,  0.78699785,  0.82315767],\n",
              "       [-0.49876142,  0.7564788 , -1.1613951 , -1.3126029 ],\n",
              "       [ 0.3545167 , -0.5850599 ,  0.15663552,  0.1557325 ],\n",
              "       [-1.108246  , -1.255829  ,  0.4431639 ,  0.6896727 ],\n",
              "       [-0.01117364,  2.098017  , -1.4479234 , -1.3126029 ],\n",
              "       [-0.01117364, -1.0322394 ,  0.15663552,  0.02224758],\n",
              "       [ 1.5734859 , -0.13788034,  1.2454433 ,  1.2236127 ]],\n",
              "      dtype=float32)"
            ]
          },
          "metadata": {},
          "execution_count": 10
        }
      ]
    },
    {
      "cell_type": "markdown",
      "source": [
        "All the library has been imported and data has been scaled now we have to build ANN model"
      ],
      "metadata": {
        "id": "6fZL0QvAuxDj"
      }
    },
    {
      "cell_type": "code",
      "source": [
        "model=Sequential()\n",
        "\n",
        "model.add(Dense(16,input_dim=4,activation='relu'))\n",
        "model.add(BatchNormalization())\n",
        "model.add(Dropout(0.2))\n",
        "\n",
        "model.add(Dense(8,activation='relu'))\n",
        "model.add(BatchNormalization())\n",
        "model.add(Dropout(0.2))\n",
        "\n",
        "model.add(Dense(3,activation='softmax'))\n",
        "\n",
        "model.compile(optimizer='Adam',loss='sparse_categorical_crossentropy',metrics=['accuracy'])"
      ],
      "metadata": {
        "colab": {
          "base_uri": "https://localhost:8080/"
        },
        "id": "9iNJ1Iscu5We",
        "outputId": "fe62126e-3a51-4f93-d283-53f6bdd37fca"
      },
      "execution_count": 11,
      "outputs": [
        {
          "output_type": "stream",
          "name": "stderr",
          "text": [
            "/usr/local/lib/python3.10/dist-packages/keras/src/layers/core/dense.py:87: UserWarning: Do not pass an `input_shape`/`input_dim` argument to a layer. When using Sequential models, prefer using an `Input(shape)` object as the first layer in the model instead.\n",
            "  super().__init__(activity_regularizer=activity_regularizer, **kwargs)\n"
          ]
        }
      ]
    },
    {
      "cell_type": "code",
      "source": [
        "# Training the model\n",
        "\n",
        "train=model.fit(X_train,y_train,epochs=10,batch_size=32,validation_data=(X_test,y_test))"
      ],
      "metadata": {
        "colab": {
          "base_uri": "https://localhost:8080/"
        },
        "id": "4QymA5h7us2R",
        "outputId": "e28f28cc-1979-474b-a8d5-a69dedbdd7d7"
      },
      "execution_count": 12,
      "outputs": [
        {
          "output_type": "stream",
          "name": "stdout",
          "text": [
            "Epoch 1/10\n",
            "\u001b[1m4/4\u001b[0m \u001b[32m━━━━━━━━━━━━━━━━━━━━\u001b[0m\u001b[37m\u001b[0m \u001b[1m23s\u001b[0m 4s/step - accuracy: 0.3735 - loss: 1.5200 - val_accuracy: 0.0000e+00 - val_loss: 1.3857\n",
            "Epoch 2/10\n",
            "\u001b[1m4/4\u001b[0m \u001b[32m━━━━━━━━━━━━━━━━━━━━\u001b[0m\u001b[37m\u001b[0m \u001b[1m20s\u001b[0m 16ms/step - accuracy: 0.3844 - loss: 1.4628 - val_accuracy: 0.0000e+00 - val_loss: 1.3885\n",
            "Epoch 3/10\n",
            "\u001b[1m4/4\u001b[0m \u001b[32m━━━━━━━━━━━━━━━━━━━━\u001b[0m\u001b[37m\u001b[0m \u001b[1m0s\u001b[0m 21ms/step - accuracy: 0.4942 - loss: 1.2260 - val_accuracy: 0.0000e+00 - val_loss: 1.3921\n",
            "Epoch 4/10\n",
            "\u001b[1m4/4\u001b[0m \u001b[32m━━━━━━━━━━━━━━━━━━━━\u001b[0m\u001b[37m\u001b[0m \u001b[1m0s\u001b[0m 14ms/step - accuracy: 0.4363 - loss: 1.3530 - val_accuracy: 0.0000e+00 - val_loss: 1.3952\n",
            "Epoch 5/10\n",
            "\u001b[1m4/4\u001b[0m \u001b[32m━━━━━━━━━━━━━━━━━━━━\u001b[0m\u001b[37m\u001b[0m \u001b[1m0s\u001b[0m 25ms/step - accuracy: 0.5204 - loss: 1.2143 - val_accuracy: 0.0000e+00 - val_loss: 1.3998\n",
            "Epoch 6/10\n",
            "\u001b[1m4/4\u001b[0m \u001b[32m━━━━━━━━━━━━━━━━━━━━\u001b[0m\u001b[37m\u001b[0m \u001b[1m0s\u001b[0m 28ms/step - accuracy: 0.4900 - loss: 1.1533 - val_accuracy: 0.0000e+00 - val_loss: 1.4054\n",
            "Epoch 7/10\n",
            "\u001b[1m4/4\u001b[0m \u001b[32m━━━━━━━━━━━━━━━━━━━━\u001b[0m\u001b[37m\u001b[0m \u001b[1m0s\u001b[0m 20ms/step - accuracy: 0.5769 - loss: 1.1192 - val_accuracy: 0.0000e+00 - val_loss: 1.4078\n",
            "Epoch 8/10\n",
            "\u001b[1m4/4\u001b[0m \u001b[32m━━━━━━━━━━━━━━━━━━━━\u001b[0m\u001b[37m\u001b[0m \u001b[1m0s\u001b[0m 21ms/step - accuracy: 0.5131 - loss: 1.1873 - val_accuracy: 0.0000e+00 - val_loss: 1.4106\n",
            "Epoch 9/10\n",
            "\u001b[1m4/4\u001b[0m \u001b[32m━━━━━━━━━━━━━━━━━━━━\u001b[0m\u001b[37m\u001b[0m \u001b[1m0s\u001b[0m 23ms/step - accuracy: 0.5829 - loss: 0.9731 - val_accuracy: 0.1000 - val_loss: 1.4106\n",
            "Epoch 10/10\n",
            "\u001b[1m4/4\u001b[0m \u001b[32m━━━━━━━━━━━━━━━━━━━━\u001b[0m\u001b[37m\u001b[0m \u001b[1m0s\u001b[0m 18ms/step - accuracy: 0.5721 - loss: 0.9522 - val_accuracy: 0.2333 - val_loss: 1.4081\n"
          ]
        }
      ]
    },
    {
      "cell_type": "code",
      "source": [
        "loss,accuracy=model.evaluate(X_test,y_test)\n",
        "print(f\"Loss: {loss}\")\n",
        "print(f\"Accuracy: {accuracy}\")"
      ],
      "metadata": {
        "colab": {
          "base_uri": "https://localhost:8080/"
        },
        "id": "kOmc-GODw9__",
        "outputId": "ffd9fa84-51d9-4e22-9c6d-e952ddc42ef7"
      },
      "execution_count": 13,
      "outputs": [
        {
          "output_type": "stream",
          "name": "stdout",
          "text": [
            "\u001b[1m1/1\u001b[0m \u001b[32m━━━━━━━━━━━━━━━━━━━━\u001b[0m\u001b[37m\u001b[0m \u001b[1m0s\u001b[0m 44ms/step - accuracy: 0.2333 - loss: 1.4081\n",
            "Loss: 1.4080500602722168\n",
            "Accuracy: 0.23333333432674408\n"
          ]
        }
      ]
    },
    {
      "cell_type": "code",
      "source": [
        "print(train.history.keys())\n",
        "# checking all the keys using history method because we want to plot the loss and accuracy graph"
      ],
      "metadata": {
        "colab": {
          "base_uri": "https://localhost:8080/"
        },
        "id": "WT863SQIxswQ",
        "outputId": "3b6cee6e-4870-40b9-becf-ee551ab89957"
      },
      "execution_count": 14,
      "outputs": [
        {
          "output_type": "stream",
          "name": "stdout",
          "text": [
            "dict_keys(['accuracy', 'loss', 'val_accuracy', 'val_loss'])\n"
          ]
        }
      ]
    },
    {
      "cell_type": "code",
      "source": [
        "# Plot the accuracy graph\n",
        "\n",
        "plt.figure(figsize=(7,3))\n",
        "\n",
        "plt.subplot(1,2,1)\n",
        "plt.plot(train.history['loss'], label='Training loss')\n",
        "plt.plot(train.history['val_loss'], label='validation loss')\n",
        "plt.title('Model Loss')\n",
        "plt.xlabel('Epochs')\n",
        "plt.ylabel('loss')\n",
        "plt.legend()\n",
        "plt.show()"
      ],
      "metadata": {
        "colab": {
          "base_uri": "https://localhost:8080/",
          "height": 333
        },
        "id": "rmf_H-pexV_Q",
        "outputId": "ab72c9ba-30c1-40a3-ee2c-0c9b8e5f3213"
      },
      "execution_count": 22,
      "outputs": [
        {
          "output_type": "display_data",
          "data": {
            "text/plain": [
              "<Figure size 700x300 with 1 Axes>"
            ],
            "image/png": "[encoded data removed]"
          },
          "metadata": {}
        }
      ]
    },
    {
      "cell_type": "code",
      "source": [
        "# plotting the model accuracy\n",
        "plt.figure(figsize=(7,3))\n",
        "\n",
        "plt.plot(train.history['accuracy'], label='training accuracy')\n",
        "plt.plot(train.history['val_accuracy'], label='validation accuracy')\n",
        "plt.title('model Accuracy')\n",
        "plt.xlabel('Apochs')\n",
        "plt.ylabel('Accuracy')\n",
        "plt.legend()\n",
        "plt.show()\n"
      ],
      "metadata": {
        "colab": {
          "base_uri": "https://localhost:8080/",
          "height": 333
        },
        "id": "NbH3iOCDOdxo",
        "outputId": "3a76bcd4-38cf-40a0-91fe-5c9b888c4062"
      },
      "execution_count": 23,
      "outputs": [
        {
          "output_type": "display_data",
          "data": {
            "text/plain": [
              "<Figure size 700x300 with 1 Axes>"
            ],
            "image/png": "[encoded data removed]"
          },
          "metadata": {}
        }
      ]
    },
    {
      "cell_type": "code",
      "source": [
        "y_pred=model.predict(X_test)\n"
      ],
      "metadata": {
        "colab": {
          "base_uri": "https://localhost:8080/"
        },
        "id": "Vx_A1dMIQbFk",
        "outputId": "9adc4ea1-07ca-4a7c-bf54-7fbbeacc6b2e"
      },
      "execution_count": 28,
      "outputs": [
        {
          "output_type": "stream",
          "name": "stdout",
          "text": [
            "\u001b[1m1/1\u001b[0m \u001b[32m━━━━━━━━━━━━━━━━━━━━\u001b[0m\u001b[37m\u001b[0m \u001b[1m0s\u001b[0m 17ms/step\n"
          ]
        }
      ]
    },
    {
      "cell_type": "code",
      "source": [
        "print(y_pred)   # we got the value in scaled form so we need to convert them into labels"
      ],
      "metadata": {
        "colab": {
          "base_uri": "https://localhost:8080/"
        },
        "id": "4vB5-qdEQ2TU",
        "outputId": "4b0e27d1-bbe5-4623-da29-19007d6fea8b"
      },
      "execution_count": 29,
      "outputs": [
        {
          "output_type": "stream",
          "name": "stdout",
          "text": [
            "[[0.31603822 0.17578977 0.5081721 ]\n",
            " [0.15889123 0.14901406 0.69209474]\n",
            " [0.3948057  0.15336867 0.45182556]\n",
            " [0.3410868  0.18384022 0.47507292]\n",
            " [0.2767617  0.16067548 0.5625629 ]\n",
            " [0.16624568 0.15672126 0.67703307]\n",
            " [0.3088376  0.18867797 0.50248444]\n",
            " [0.36857444 0.17679045 0.45463505]\n",
            " [0.29522023 0.17186852 0.53291124]\n",
            " [0.2931185  0.18009429 0.52678716]\n",
            " [0.38530362 0.18208508 0.43261138]\n",
            " [0.17821038 0.16861029 0.65317935]\n",
            " [0.14547148 0.14680545 0.707723  ]\n",
            " [0.17852113 0.16711879 0.65436006]\n",
            " [0.17900257 0.16295445 0.65804297]\n",
            " [0.35060424 0.18181296 0.46758276]\n",
            " [0.44797233 0.17754091 0.3744867 ]\n",
            " [0.29466057 0.18180901 0.52353036]\n",
            " [0.34774676 0.18724595 0.4650073 ]\n",
            " [0.43420392 0.1795257  0.38627037]\n",
            " [0.19896968 0.17609513 0.6249352 ]\n",
            " [0.38624135 0.18621984 0.4275388 ]\n",
            " [0.19196829 0.17006254 0.6379692 ]\n",
            " [0.42548627 0.17873403 0.39577973]\n",
            " [0.36196175 0.15664463 0.48139367]\n",
            " [0.3889563  0.180277   0.4307666 ]\n",
            " [0.36969107 0.16797441 0.46233454]\n",
            " [0.44126564 0.17498092 0.38375342]\n",
            " [0.18629453 0.17194454 0.6417609 ]\n",
            " [0.1930772  0.17341068 0.633512  ]]\n"
          ]
        }
      ]
    },
    {
      "cell_type": "code",
      "source": [
        "y_pred=np.argmax(y_pred,axis=1)  # it will return the class with high probability"
      ],
      "metadata": {
        "id": "C46swwLnQ_6F"
      },
      "execution_count": 30,
      "outputs": []
    },
    {
      "cell_type": "code",
      "source": [
        "y_pred  # it return the class labels with higher probability compre above"
      ],
      "metadata": {
        "colab": {
          "base_uri": "https://localhost:8080/"
        },
        "id": "_hQJUR-xRyFs",
        "outputId": "35f50aa9-6538-461c-e3ee-72e95442ff27"
      },
      "execution_count": 31,
      "outputs": [
        {
          "output_type": "execute_result",
          "data": {
            "text/plain": [
              "array([2, 2, 2, 2, 2, 2, 2, 2, 2, 2, 2, 2, 2, 2, 2, 2, 0, 2, 2, 0, 2, 2,\n",
              "       2, 0, 2, 2, 2, 0, 2, 2])"
            ]
          },
          "metadata": {},
          "execution_count": 31
        }
      ]
    },
    {
      "cell_type": "code",
      "source": [
        "accuracy_score(y_test,y_pred)  # we got accuracy of 23 percent"
      ],
      "metadata": {
        "colab": {
          "base_uri": "https://localhost:8080/"
        },
        "id": "wgCLGk7oRtLP",
        "outputId": "0e978ff5-1922-489a-8ec0-0bf1b25cd5a5"
      },
      "execution_count": 32,
      "outputs": [
        {
          "output_type": "execute_result",
          "data": {
            "text/plain": [
              "0.23333333333333334"
            ]
          },
          "metadata": {},
          "execution_count": 32
        }
      ]
    },
    {
      "cell_type": "code",
      "source": [
        "confusion_matrix(y_test,y_pred)"
      ],
      "metadata": {
        "colab": {
          "base_uri": "https://localhost:8080/"
        },
        "id": "n8oFDKZGR-5U",
        "outputId": "5d084f5f-95df-4910-f468-955ed05f67d3"
      },
      "execution_count": 33,
      "outputs": [
        {
          "output_type": "execute_result",
          "data": {
            "text/plain": [
              "array([[ 0,  0, 10],\n",
              "       [ 0,  0,  9],\n",
              "       [ 4,  0,  7]])"
            ]
          },
          "metadata": {},
          "execution_count": 33
        }
      ]
    }
  ]
}